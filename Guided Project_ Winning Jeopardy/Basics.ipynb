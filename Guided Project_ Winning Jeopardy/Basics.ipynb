{
 "cells": [
  {
   "cell_type": "markdown",
   "metadata": {
    "collapsed": true
   },
   "source": [
    "# Jeopardy \n",
    "\n",
    "<strong>This project looks at 20000 jeopardy questions, trying to determine if it's possible to extract any insights in terms of the best possible catagories to study.</strong>"
   ]
  },
  {
   "cell_type": "markdown",
   "metadata": {},
   "source": [
    "# Initial Import and Cleanup"
   ]
  },
  {
   "cell_type": "code",
   "execution_count": 1,
   "metadata": {
    "collapsed": true
   },
   "outputs": [],
   "source": [
    "import pandas as pd\n",
    "import numpy as np\n",
    "import scipy.stats as stats\n",
    "import matplotlib.pyplot as plt\n",
    "%matplotlib inline\n",
    "\n",
    "jeopardy = pd.read_csv('jeopardy.csv')"
   ]
  },
  {
   "cell_type": "code",
   "execution_count": 2,
   "metadata": {
    "collapsed": false
   },
   "outputs": [
    {
     "data": {
      "text/html": [
       "<div>\n",
       "<style scoped>\n",
       "    .dataframe tbody tr th:only-of-type {\n",
       "        vertical-align: middle;\n",
       "    }\n",
       "\n",
       "    .dataframe tbody tr th {\n",
       "        vertical-align: top;\n",
       "    }\n",
       "\n",
       "    .dataframe thead th {\n",
       "        text-align: right;\n",
       "    }\n",
       "</style>\n",
       "<table border=\"1\" class=\"dataframe\">\n",
       "  <thead>\n",
       "    <tr style=\"text-align: right;\">\n",
       "      <th></th>\n",
       "      <th>Show Number</th>\n",
       "      <th>Air Date</th>\n",
       "      <th>Round</th>\n",
       "      <th>Category</th>\n",
       "      <th>Value</th>\n",
       "      <th>Question</th>\n",
       "      <th>Answer</th>\n",
       "    </tr>\n",
       "  </thead>\n",
       "  <tbody>\n",
       "    <tr>\n",
       "      <th>0</th>\n",
       "      <td>4680</td>\n",
       "      <td>2004-12-31</td>\n",
       "      <td>Jeopardy!</td>\n",
       "      <td>HISTORY</td>\n",
       "      <td>$200</td>\n",
       "      <td>For the last 8 years of his life, Galileo was ...</td>\n",
       "      <td>Copernicus</td>\n",
       "    </tr>\n",
       "    <tr>\n",
       "      <th>1</th>\n",
       "      <td>4680</td>\n",
       "      <td>2004-12-31</td>\n",
       "      <td>Jeopardy!</td>\n",
       "      <td>ESPN's TOP 10 ALL-TIME ATHLETES</td>\n",
       "      <td>$200</td>\n",
       "      <td>No. 2: 1912 Olympian; football star at Carlisl...</td>\n",
       "      <td>Jim Thorpe</td>\n",
       "    </tr>\n",
       "    <tr>\n",
       "      <th>2</th>\n",
       "      <td>4680</td>\n",
       "      <td>2004-12-31</td>\n",
       "      <td>Jeopardy!</td>\n",
       "      <td>EVERYBODY TALKS ABOUT IT...</td>\n",
       "      <td>$200</td>\n",
       "      <td>The city of Yuma in this state has a record av...</td>\n",
       "      <td>Arizona</td>\n",
       "    </tr>\n",
       "    <tr>\n",
       "      <th>3</th>\n",
       "      <td>4680</td>\n",
       "      <td>2004-12-31</td>\n",
       "      <td>Jeopardy!</td>\n",
       "      <td>THE COMPANY LINE</td>\n",
       "      <td>$200</td>\n",
       "      <td>In 1963, live on \"The Art Linkletter Show\", th...</td>\n",
       "      <td>McDonald's</td>\n",
       "    </tr>\n",
       "    <tr>\n",
       "      <th>4</th>\n",
       "      <td>4680</td>\n",
       "      <td>2004-12-31</td>\n",
       "      <td>Jeopardy!</td>\n",
       "      <td>EPITAPHS &amp; TRIBUTES</td>\n",
       "      <td>$200</td>\n",
       "      <td>Signer of the Dec. of Indep., framer of the Co...</td>\n",
       "      <td>John Adams</td>\n",
       "    </tr>\n",
       "  </tbody>\n",
       "</table>\n",
       "</div>"
      ],
      "text/plain": [
       "   Show Number    Air Date      Round                         Category  Value  \\\n",
       "0         4680  2004-12-31  Jeopardy!                          HISTORY   $200   \n",
       "1         4680  2004-12-31  Jeopardy!  ESPN's TOP 10 ALL-TIME ATHLETES   $200   \n",
       "2         4680  2004-12-31  Jeopardy!      EVERYBODY TALKS ABOUT IT...   $200   \n",
       "3         4680  2004-12-31  Jeopardy!                 THE COMPANY LINE   $200   \n",
       "4         4680  2004-12-31  Jeopardy!              EPITAPHS & TRIBUTES   $200   \n",
       "\n",
       "                                            Question      Answer  \n",
       "0  For the last 8 years of his life, Galileo was ...  Copernicus  \n",
       "1  No. 2: 1912 Olympian; football star at Carlisl...  Jim Thorpe  \n",
       "2  The city of Yuma in this state has a record av...     Arizona  \n",
       "3  In 1963, live on \"The Art Linkletter Show\", th...  McDonald's  \n",
       "4  Signer of the Dec. of Indep., framer of the Co...  John Adams  "
      ]
     },
     "execution_count": 2,
     "metadata": {},
     "output_type": "execute_result"
    }
   ],
   "source": [
    "jeopardy.head(5)"
   ]
  },
  {
   "cell_type": "code",
   "execution_count": 3,
   "metadata": {
    "collapsed": false
   },
   "outputs": [
    {
     "name": "stdout",
     "output_type": "stream",
     "text": [
      "Index(['Show Number', 'Air Date', 'Round', 'Category', 'Value', 'Question',\n",
      "       'Answer'],\n",
      "      dtype='object')\n",
      "\n",
      "<class 'pandas.core.frame.DataFrame'>\n",
      "RangeIndex: 19999 entries, 0 to 19998\n",
      "Data columns (total 7 columns):\n",
      "Show Number    19999 non-null int64\n",
      "Air Date       19999 non-null object\n",
      "Round          19999 non-null object\n",
      "Category       19999 non-null object\n",
      "Value          19999 non-null object\n",
      "Question       19999 non-null object\n",
      "Answer         19999 non-null object\n",
      "dtypes: int64(1), object(6)\n",
      "memory usage: 1.1+ MB\n"
     ]
    }
   ],
   "source": [
    "colnames = {}\n",
    "for i,cn in enumerate(jeopardy.columns):\n",
    "        colnames[cn]=cn.strip(' ')\n",
    "jeopardy.rename(columns=colnames,inplace=True)\n",
    "print(jeopardy.columns)\n",
    "print()\n",
    "jeopardy.info()"
   ]
  },
  {
   "cell_type": "code",
   "execution_count": 4,
   "metadata": {
    "collapsed": false
   },
   "outputs": [
    {
     "name": "stdout",
     "output_type": "stream",
     "text": [
      "this is a test sentence its very long\n"
     ]
    }
   ],
   "source": [
    "import re\n",
    "def normalizer(s):\n",
    "    \"\"\"This function takes in an input string and then normalises it by converting it to lowercase\n",
    "    and removing all the punctutation\"\"\"\n",
    "    return re.sub(r'[^\\w\\s]','',s.lower())\n",
    "\n",
    "print(normalizer(\"This is a test sentence, it's very long!\"))"
   ]
  },
  {
   "cell_type": "code",
   "execution_count": 5,
   "metadata": {
    "collapsed": true
   },
   "outputs": [],
   "source": [
    "#clean up the answer and question columns\n",
    "jeopardy['clean_question'] = jeopardy['Question'].apply(lambda x:normalizer(x))\n",
    "jeopardy['clean_answer'] = jeopardy['Answer'].apply(lambda x:normalizer(x))"
   ]
  },
  {
   "cell_type": "code",
   "execution_count": 6,
   "metadata": {
    "collapsed": false
   },
   "outputs": [],
   "source": [
    "#convert values to numeric\n",
    "jeopardy['Value']=jeopardy['Value'].apply(lambda x: normalizer(x[1:]))\n",
    "jeopardy['clean_value'] = jeopardy['Value'].replace({'one':1}).astype(int)"
   ]
  },
  {
   "cell_type": "code",
   "execution_count": 7,
   "metadata": {
    "collapsed": false
   },
   "outputs": [],
   "source": [
    "#convert air dates to datetime\n",
    "jeopardy['Air Date'] = pd.to_datetime(jeopardy['Air Date'])"
   ]
  },
  {
   "cell_type": "markdown",
   "metadata": {},
   "source": [
    "# Analyse for trends"
   ]
  },
  {
   "cell_type": "markdown",
   "metadata": {},
   "source": [
    "<strong>Does the answer ever occur in the question?</strong>"
   ]
  },
  {
   "cell_type": "code",
   "execution_count": 8,
   "metadata": {
    "collapsed": false
   },
   "outputs": [],
   "source": [
    "def wordrep(ir):\n",
    "    \"\"\"Function takes in an input row, splits the question and answer on whitespace and then looks to \n",
    "    see how often words from the answer are repeated in the question\"\"\"\n",
    "    split_question = ir['clean_question'].split(' ')\n",
    "    split_answer = ir['clean_answer'].split(' ')\n",
    "    \n",
    "    match_count = 0\n",
    "    if 'the' in split_answer:\n",
    "        split_answer.remove('the')\n",
    "    if len(split_answer)==0:\n",
    "        return 0\n",
    "    else:\n",
    "        for e in split_answer:\n",
    "            if e in split_question:\n",
    "                match_count += 1\n",
    "        return match_count/len(split_answer)\n",
    "\n",
    "jeopardy['answer_in_question'] = jeopardy.apply(lambda row: wordrep(row), axis=1)"
   ]
  },
  {
   "cell_type": "code",
   "execution_count": 9,
   "metadata": {
    "collapsed": false
   },
   "outputs": [
    {
     "data": {
      "text/plain": [
       "count    19999.000000\n",
       "mean         0.060493\n",
       "std          0.167014\n",
       "min          0.000000\n",
       "25%          0.000000\n",
       "50%          0.000000\n",
       "75%          0.000000\n",
       "max          1.000000\n",
       "Name: answer_in_question, dtype: float64"
      ]
     },
     "execution_count": 9,
     "metadata": {},
     "output_type": "execute_result"
    }
   ],
   "source": [
    "jeopardy['answer_in_question'].describe()"
   ]
  },
  {
   "cell_type": "markdown",
   "metadata": {},
   "source": [
    "It's rare that the answer is a repeat of the question."
   ]
  },
  {
   "cell_type": "markdown",
   "metadata": {},
   "source": [
    "<strong>How often do questions repeat?</strong>"
   ]
  },
  {
   "cell_type": "code",
   "execution_count": 10,
   "metadata": {
    "collapsed": false
   },
   "outputs": [],
   "source": [
    "#sort by air date to put questions in chronological order\n",
    "jeopardy.sort_values('Air Date',ascending=True,inplace=True)"
   ]
  },
  {
   "cell_type": "code",
   "execution_count": 49,
   "metadata": {
    "collapsed": false
   },
   "outputs": [
    {
     "data": {
      "text/plain": [
       "0.6894006357823182"
      ]
     },
     "execution_count": 49,
     "metadata": {},
     "output_type": "execute_result"
    }
   ],
   "source": [
    "question_overlap = []\n",
    "terms_used = {}\n",
    "\n",
    "for i,r in jeopardy.iterrows():\n",
    "    split_question = r['clean_question'].split(' ')\n",
    "    split_question = [e for e in split_question if len(e)>=6]\n",
    "    match_count = 0\n",
    "    for w in split_question:\n",
    "        if w in terms_used.keys():\n",
    "            terms_used[w] += 1\n",
    "            match_count += 1\n",
    "        else:\n",
    "            terms_used[w] = 1\n",
    "    if len(split_question)>0:\n",
    "        question_overlap.append(match_count/len(split_question))\n",
    "    else:\n",
    "        question_overlap.append(0)\n",
    "\n",
    "jeopardy['question_overlap'] = question_overlap\n",
    "jeopardy['question_overlap'].mean()    "
   ]
  },
  {
   "cell_type": "markdown",
   "metadata": {
    "collapsed": true
   },
   "source": [
    "There appears to be a high degree of repetition among the larger words used in the questions.  This is promising with regards to studying...  Now, look at the impact of question value on word occurence to get a weighted importance level..."
   ]
  },
  {
   "cell_type": "code",
   "execution_count": 50,
   "metadata": {
    "collapsed": false
   },
   "outputs": [],
   "source": [
    "#identify all questions of high value (>800)\n",
    "jeopardy['high_value'] = (jeopardy['clean_value']>800)\n",
    "jeopardy['high_value'].replace({False:0,True:1},inplace=True) "
   ]
  },
  {
   "cell_type": "code",
   "execution_count": 51,
   "metadata": {
    "collapsed": true
   },
   "outputs": [],
   "source": [
    "def relativeWeight(w,df):\n",
    "    \"\"\"Determines how often a particular word repeats given the question's value\n",
    "    returns a tuple with the number of occurences in low value questions and high value questions\n",
    "    \"\"\"\n",
    "    low_count = 0\n",
    "    high_count = 0\n",
    "    for i,r in df.iterrows():\n",
    "        split_question = r['clean_question'].split(' ')\n",
    "        if w in split_question:\n",
    "            if r['high_value']==1:\n",
    "                high_count += 1\n",
    "            else:\n",
    "                low_count += 1\n",
    "    return (low_count,high_count)"
   ]
  },
  {
   "cell_type": "code",
   "execution_count": 53,
   "metadata": {
    "collapsed": false
   },
   "outputs": [
    {
     "data": {
      "text/plain": [
       "[(133, 108),\n",
       " (134, 73),\n",
       " (124, 57),\n",
       " (124, 55),\n",
       " (134, 42),\n",
       " (108, 55),\n",
       " (119, 50),\n",
       " (110, 54),\n",
       " (108, 52),\n",
       " (102, 58)]"
      ]
     },
     "execution_count": 53,
     "metadata": {},
     "output_type": "execute_result"
    }
   ],
   "source": [
    "observed_expected = []\n",
    "comparison_terms = []\n",
    "\n",
    "for i in range(0,10):\n",
    "    k = max(terms_used, key=terms_used.get)\n",
    "    comparison_terms.append(k)\n",
    "    terms_used.pop(k)\n",
    "\n",
    "for t in comparison_terms:\n",
    "    observed_expected.append(relativeWeight(t,jeopardy))\n",
    "    \n",
    "observed_expected"
   ]
  },
  {
   "cell_type": "code",
   "execution_count": 62,
   "metadata": {
    "collapsed": false
   },
   "outputs": [
    {
     "data": {
      "text/plain": [
       "[['french', 30.70509560211122, 3.003751982853918e-08],\n",
       " ['island', 4.401396413478652, 0.03590951591318824],\n",
       " ['people', 0.7039630431807515, 0.4014552498370205],\n",
       " ['national', 0.36956355622281933, 0.5432422635312689],\n",
       " ['largest', 1.9892622715198827, 0.15841803672554888],\n",
       " ['little', 2.049483384913445, 0.15225784710260734],\n",
       " ['around', 0.06908968634314422, 0.7926668351740855],\n",
       " ['british', 1.4521478773041714, 0.22818361990918334],\n",
       " ['author', 1.1467782632567483, 0.28422458885200585],\n",
       " ['meaning', 4.4934633334396965, 0.03402468062121473]]"
      ]
     },
     "execution_count": 62,
     "metadata": {},
     "output_type": "execute_result"
    }
   ],
   "source": [
    "high_value_count = jeopardy['high_value'].sum()\n",
    "low_value_count = jeopardy['high_value'].count() - high_value_count\n",
    "\n",
    "chi_squared = []\n",
    "cnt = 0 \n",
    "for l,h in observed_expected:\n",
    "    total = l + h\n",
    "    total_prop = total/(high_value_count+low_value_count)\n",
    "    elow = low_value_count*total_prop\n",
    "    ehigh = high_value_count*total_prop    \n",
    "    chi2,pv = stats.chisquare([l,h],[elow,ehigh])\n",
    "    chi_squared.append([comparison_terms[cnt],chi2,pv])\n",
    "    cnt += 1\n",
    "\n",
    "chi_squared"
   ]
  },
  {
   "cell_type": "markdown",
   "metadata": {},
   "source": [
    "There seems to be a statistically significant increase in 3 of the top ten words:\n",
    "French, Island, and Meaning.  In particular, France seems to be a good thing to study in order to high higher value questions."
   ]
  }
 ],
 "metadata": {
  "kernelspec": {
   "display_name": "Python 3",
   "language": "python",
   "name": "python3"
  },
  "language_info": {
   "codemirror_mode": {
    "name": "ipython",
    "version": 3
   },
   "file_extension": ".py",
   "mimetype": "text/x-python",
   "name": "python",
   "nbconvert_exporter": "python",
   "pygments_lexer": "ipython3",
   "version": "3.4.3"
  }
 },
 "nbformat": 4,
 "nbformat_minor": 0
}
